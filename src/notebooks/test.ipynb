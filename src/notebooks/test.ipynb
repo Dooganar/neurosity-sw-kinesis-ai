{
 "cells": [
  {
   "cell_type": "code",
   "execution_count": 1,
   "id": "37b64044-3797-48b9-8324-80c81391078f",
   "metadata": {},
   "outputs": [],
   "source": [
    "dictionary_encoded = {\n",
    "  34: 0, 7: 1, 2: 2, 8: 3,\n",
    "        4: 4, 22: 5, 0: 6, 6: 7\n",
    "}\n",
    "reversed_dictionary_encoded = {v: k for k, v in dictionary_encoded.items()}\n",
    "dictionary = {\n",
    "  \"rest\": 0,\n",
    "  \"artifactDetector\": 1,\n",
    "  \"leftArm\": 2,\n",
    "  \"rightArm\": 3,\n",
    "  \"leftHandPinch\": 4,\n",
    "  \"rightHandPinch\": 5,\n",
    "  \"tongue\": 6,\n",
    "  \"jumpingJacks\": 7,\n",
    "  \"leftFoot\": 8,\n",
    "  \"rightFoot\": 9,\n",
    "  \"leftThumbFinger\": 10,\n",
    "  \"leftIndexFinger\": 11,\n",
    "  \"leftMiddleFinger\": 12,\n",
    "  \"leftRingFinger\": 13,\n",
    "  \"leftPinkyFinger\": 14,\n",
    "  \"rightThumbFinger\": 15,\n",
    "  \"rightIndexFinger\": 16,\n",
    "  \"rightMiddleFinger\": 17,\n",
    "  \"rightRingFinger\": 18,\n",
    "  \"rightPinkyFinger\": 19,\n",
    "  \"mentalMath\": 20,\n",
    "  \"bitingALemon\": 21,\n",
    "  \"push\": 22,\n",
    "  \"pull\": 23,\n",
    "  \"lift\": 24,\n",
    "  \"drop\": 25,\n",
    "  \"moveLeft\": 26,\n",
    "  \"moveRight\": 27,\n",
    "  \"moveForward\": 28,\n",
    "  \"moveBackward\": 29,\n",
    "  \"rotateLeft\": 30,\n",
    "  \"rotateRight\": 31,\n",
    "  \"rotateClockwise\": 32,\n",
    "  \"rotateCounterClockwise\": 33,\n",
    "  \"disappear\": 34\n",
    "}\n",
    "reversed_dict = {v: k for k, v in dictionary.items()}\n",
    "\n",
    "dictionary = {\n",
    "  34: 0, 7: 1, 2: 2, 8: 3,\n",
    "        4: 4, 22: 5, 0: 6, 6: 7\n",
    "}\n",
    "\n",
    "import json\n",
    "import numpy as np\n",
    "import pickle\n",
    "import pandas as pd\n",
    "\n",
    "# Assuming x contains your features and y contains your classes\n",
    "\n",
    "\n",
    "def parse_json(json_data):\n",
    "    X = []\n",
    "    y = []\n",
    "\n",
    "    for key, value in json_data.items():\n",
    "        encoded_array = value['x']\n",
    "        decoded_array = pickle.loads(encoded_array.encode('latin1'))\n",
    "        X.append(decoded_array)\n",
    "        y.append(value['y'])\n",
    "\n",
    "    X = np.array(X)\n",
    "    y = np.array(y)\n",
    "\n",
    "    return X, y\n",
    "\n",
    "# # Example usage:\n",
    "with open('output-balanced-classes-10000-or-more.json', 'r') as f:\n",
    "    json_data = json.load(f)\n",
    "\n",
    "x, y = parse_json(json_data)\n",
    "x = np.reshape(x, (x.shape[0], -1))  # Reshape X to (10, 64)\n",
    "\n",
    "# Combine x and y into a single DataFrame\n",
    "df = pd.DataFrame(x)\n",
    "df['y'] = y\n",
    "\n",
    "# Calculate the counts of each class (y)\n",
    "class_counts = df['y'].value_counts()\n",
    "\n",
    "# Filter out classes with fewer than 10,000 occurrences\n",
    "valid_classes = class_counts[class_counts >= 10000].index\n",
    "\n",
    "# Remove rows where y has fewer than 10,000 occurrences\n",
    "df_filtered = df[df['y'].isin(valid_classes)]\n",
    "df_filtered.dropna(inplace=True)\n",
    "\n",
    "# Separate x and y again\n",
    "x = df_filtered.drop(columns=['y']).values\n",
    "y = df_filtered['y'].values\n",
    "y = np.vectorize(dictionary_encoded.get)(y)"
   ]
  },
  {
   "cell_type": "code",
   "execution_count": 2,
   "id": "72bfa425-b683-450f-812a-10a33c68aae6",
   "metadata": {},
   "outputs": [
    {
     "name": "stdout",
     "output_type": "stream",
     "text": [
      "Testing Accuracy: 0.8118675351142883\n"
     ]
    }
   ],
   "source": [
    "import cupy as cp\n",
    "from cuml.ensemble import RandomForestClassifier\n",
    "from sklearn.model_selection import train_test_split\n",
    "from sklearn.preprocessing import LabelEncoder, StandardScaler\n",
    "import joblib, pickle\n",
    "\n",
    "# Assuming X contains your 8x8 matrices and y contains the corresponding classes\n",
    "# Splitting data into training and testing sets\n",
    "X_train, X_test, y_train, y_test = train_test_split(x, y, test_size=0.2, random_state=42)\n",
    "\n",
    "# # Normalizing the data\n",
    "# scaler = StandardScaler()\n",
    "with open('standard_scaler.pkl', 'rb') as file:\n",
    "    scaler = pickle.load(file)\n",
    "# X_train_normalized = scaler.fit_transform(X_train)\n",
    "X_test_normalized = scaler.transform(X_test)\n",
    "\n",
    "# Convert numpy arrays to cupy arrays for GPU acceleration\n",
    "# X_train_gpu = cp.array(X_train)\n",
    "X_test_gpu = cp.array(X_test)\n",
    "# y_train_gpu = cp.array(y_train)\n",
    "y_test_gpu = cp.array(y_test)\n",
    "\n",
    "# Initializing and training the Random Forest classifier\n",
    "# clf = RandomForestClassifier(n_estimators=100, random_state=42)\n",
    "# clf.fit(X_train_gpu, y_train_gpu)\n",
    "clf = joblib.load('random_forest_model.joblib')\n",
    "\n",
    "# Evaluate the model\n",
    "test_accuracy = clf.score(X_test_gpu, y_test_gpu)\n",
    "print(\"Testing Accuracy:\", test_accuracy)\n",
    "rfc_test_predictions = clf.predict(X_test_gpu)\n",
    "\n",
    "# Obtain predictions on the test data\n",
    "rfc_test_predictions = clf.predict(X_test_gpu)"
   ]
  },
  {
   "cell_type": "code",
   "execution_count": 3,
   "id": "913a9b66-042e-45e7-880c-fb8901cd8637",
   "metadata": {},
   "outputs": [
    {
     "data": {
      "text/plain": [
       "(array([0., 1., 2., 3., 4., 5., 6., 7.]),\n",
       " array([2214, 2874, 8131, 5285, 2729, 1735, 3980, 2797]))"
      ]
     },
     "execution_count": 3,
     "metadata": {},
     "output_type": "execute_result"
    }
   ],
   "source": [
    "np.unique(rfc_test_predictions, return_counts=True)"
   ]
  },
  {
   "cell_type": "code",
   "execution_count": 15,
   "id": "b6cfaf49-5bb5-49f6-8866-54228d5d9019",
   "metadata": {},
   "outputs": [
    {
     "data": {
      "text/plain": [
       "array([34, 0, 4, ..., 2, 6, 2], dtype=object)"
      ]
     },
     "execution_count": 15,
     "metadata": {},
     "output_type": "execute_result"
    }
   ],
   "source": [
    "np.array(y_test)"
   ]
  },
  {
   "cell_type": "code",
   "execution_count": 4,
   "id": "652dd6d6-ab6e-4fe3-85aa-914f76489354",
   "metadata": {},
   "outputs": [
    {
     "data": {
      "text/plain": [
       "array([3., 7., 4., ..., 2., 1., 2.])"
      ]
     },
     "execution_count": 4,
     "metadata": {},
     "output_type": "execute_result"
    }
   ],
   "source": [
    "rfc_test_predictions"
   ]
  },
  {
   "cell_type": "code",
   "execution_count": null,
   "id": "65a1ac8a-bea1-4b34-ad04-355ecf0b959c",
   "metadata": {},
   "outputs": [],
   "source": []
  }
 ],
 "metadata": {
  "kernelspec": {
   "display_name": "Python 3 (ipykernel)",
   "language": "python",
   "name": "python3"
  },
  "language_info": {
   "codemirror_mode": {
    "name": "ipython",
    "version": 3
   },
   "file_extension": ".py",
   "mimetype": "text/x-python",
   "name": "python",
   "nbconvert_exporter": "python",
   "pygments_lexer": "ipython3",
   "version": "3.10.12"
  }
 },
 "nbformat": 4,
 "nbformat_minor": 5
}
